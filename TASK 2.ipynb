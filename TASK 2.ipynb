{
 "cells": [
  {
   "cell_type": "code",
   "execution_count": 1,
   "id": "ee1c9310-72bb-4bb9-84f5-9bf1c54d1197",
   "metadata": {},
   "outputs": [
    {
     "name": "stdout",
     "output_type": "stream",
     "text": [
      "Basic Statistics for Numerical Columns:\n",
      "       child_mort     exports      health     imports         income  \\\n",
      "count  167.000000  167.000000  167.000000  167.000000     167.000000   \n",
      "mean    38.270060   41.108976    6.815689   46.890215   17144.688623   \n",
      "std     40.328931   27.412010    2.746837   24.209589   19278.067698   \n",
      "min      2.600000    0.109000    1.810000    0.065900     609.000000   \n",
      "25%      8.250000   23.800000    4.920000   30.200000    3355.000000   \n",
      "50%     19.300000   35.000000    6.320000   43.300000    9960.000000   \n",
      "75%     62.100000   51.350000    8.600000   58.750000   22800.000000   \n",
      "max    208.000000  200.000000   17.900000  174.000000  125000.000000   \n",
      "\n",
      "        inflation  life_expec   total_fer           gdpp  \n",
      "count  167.000000  167.000000  167.000000     167.000000  \n",
      "mean     7.781832   70.555689    2.947964   12964.155689  \n",
      "std     10.570704    8.893172    1.513848   18328.704809  \n",
      "min     -4.210000   32.100000    1.150000     231.000000  \n",
      "25%      1.810000   65.300000    1.795000    1330.000000  \n",
      "50%      5.390000   73.100000    2.410000    4660.000000  \n",
      "75%     10.750000   76.800000    3.880000   14050.000000  \n",
      "max    104.000000   82.800000    7.490000  105000.000000  \n",
      "\n",
      "Mean Values by Income Category:\n",
      "                  life_expec  child_mort    health  total_fer\n",
      "income_category                                              \n",
      "Low Income         61.294231   81.153846  6.529231   4.531154\n",
      "Middle Income      72.109231   26.775385  6.238923   2.497385\n",
      "High Income        77.854762    9.011905  8.321905   1.907619\n",
      "Very High Income   79.812500    6.525000  5.456250   1.780000\n",
      "\n",
      "Correlation Matrix:\n",
      "            child_mort  exports  health  imports  income  inflation  \\\n",
      "child_mort        1.00    -0.32   -0.20    -0.13   -0.52       0.29   \n",
      "exports          -0.32     1.00   -0.11     0.74    0.52      -0.11   \n",
      "health           -0.20    -0.11    1.00     0.10    0.13      -0.26   \n",
      "imports          -0.13     0.74    0.10     1.00    0.12      -0.25   \n",
      "income           -0.52     0.52    0.13     0.12    1.00      -0.15   \n",
      "inflation         0.29    -0.11   -0.26    -0.25   -0.15       1.00   \n",
      "life_expec       -0.89     0.32    0.21     0.05    0.61      -0.24   \n",
      "total_fer         0.85    -0.32   -0.20    -0.16   -0.50       0.32   \n",
      "gdpp             -0.48     0.42    0.35     0.12    0.90      -0.22   \n",
      "\n",
      "            life_expec  total_fer  gdpp  \n",
      "child_mort       -0.89       0.85 -0.48  \n",
      "exports           0.32      -0.32  0.42  \n",
      "health            0.21      -0.20  0.35  \n",
      "imports           0.05      -0.16  0.12  \n",
      "income            0.61      -0.50  0.90  \n",
      "inflation        -0.24       0.32 -0.22  \n",
      "life_expec        1.00      -0.76  0.60  \n",
      "total_fer        -0.76       1.00 -0.45  \n",
      "gdpp              0.60      -0.45  1.00  \n",
      "\n",
      "Top 5 Countries with Highest Child Mortality:\n",
      "                      country  child_mort  life_expec  income\n",
      "66                      Haiti       208.0        32.1    1500\n",
      "132              Sierra Leone       160.0        55.0    1220\n",
      "32                       Chad       150.0        56.5    1930\n",
      "31   Central African Republic       149.0        47.5     888\n",
      "97                       Mali       137.0        59.5    1870\n"
     ]
    },
    {
     "name": "stderr",
     "output_type": "stream",
     "text": [
      "/tmp/ipykernel_338/503419353.py:19: FutureWarning: The default of observed=False is deprecated and will be changed to True in a future version of pandas. Pass observed=False to retain current behavior or observed=True to adopt the future default and silence this warning.\n",
      "  group_means = df.groupby('income_category')[['life_expec', 'child_mort', 'health', 'total_fer']].mean()\n"
     ]
    }
   ],
   "source": [
    "import pandas as pd\n",
    "import numpy as np\n",
    "\n",
    "# Read the CSV file\n",
    "df = pd.read_csv('Country-data.csv')\n",
    "\n",
    "# Calculate basic statistics for all numerical columns\n",
    "print(\"Basic Statistics for Numerical Columns:\")\n",
    "print(df.describe())\n",
    "\n",
    "# Let's create some interesting analyses by grouping countries based on income levels\n",
    "# First, create income categories\n",
    "df['income_category'] = pd.cut(df['income'], \n",
    "                              bins=[0, 5000, 20000, 50000, float('inf')],\n",
    "                              labels=['Low Income', 'Middle Income', 'High Income', 'Very High Income'])\n",
    "\n",
    "# Calculate mean values for each income category\n",
    "print(\"\\nMean Values by Income Category:\")\n",
    "group_means = df.groupby('income_category')[['life_expec', 'child_mort', 'health', 'total_fer']].mean()\n",
    "print(group_means)\n",
    "\n",
    "# Find correlations between numerical columns\n",
    "print(\"\\nCorrelation Matrix:\")\n",
    "correlation_matrix = df.select_dtypes(include=[np.number]).corr()\n",
    "print(correlation_matrix.round(2))\n",
    "\n",
    "# Interesting findings for high child mortality countries\n",
    "print(\"\\nTop 5 Countries with Highest Child Mortality:\")\n",
    "print(df.nlargest(5, 'child_mort')[['country', 'child_mort', 'life_expec', 'income']])"
   ]
  },
  {
   "cell_type": "code",
   "execution_count": null,
   "id": "a3673a2e-afa6-4c60-84c8-739133ce9fca",
   "metadata": {},
   "outputs": [],
   "source": []
  }
 ],
 "metadata": {
  "kernelspec": {
   "display_name": "anaconda-ai-2024.04-py310",
   "language": "python",
   "name": "conda-env-anaconda-ai-2024.04-py310-py"
  },
  "language_info": {
   "codemirror_mode": {
    "name": "ipython",
    "version": 3
   },
   "file_extension": ".py",
   "mimetype": "text/x-python",
   "name": "python",
   "nbconvert_exporter": "python",
   "pygments_lexer": "ipython3",
   "version": "3.10.13"
  }
 },
 "nbformat": 4,
 "nbformat_minor": 5
}
